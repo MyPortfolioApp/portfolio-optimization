{
 "cells": [
  {
   "cell_type": "code",
   "execution_count": null,
   "id": "cdf8ae75",
   "metadata": {},
   "outputs": [],
   "source": []
  },
  {
   "cell_type": "code",
   "execution_count": 1,
   "id": "401d531b",
   "metadata": {},
   "outputs": [],
   "source": [
    "from portfolio_tester.config import Asset, Portfolio, SamplerConfig, SimConfig, Goal\n",
    "from portfolio_tester.data.fetchers import fetch_prices_monthly, prep_returns_and_macro, fetch_fred_series\n",
    "from portfolio_tester.sampling.bootstrap import ReturnSampler\n",
    "from portfolio_tester.engine.simulator import MonteCarloSimulator\n",
    "from portfolio_tester.analytics.metrics import cagr, twrr_annualized, max_drawdown\n",
    "import numpy as np"
   ]
  },
  {
   "cell_type": "code",
   "execution_count": 2,
   "id": "01165050",
   "metadata": {},
   "outputs": [],
   "source": [
    "# 1) Portfolio (MVP)\n",
    "p = Portfolio([\n",
    "    Asset(\"VTI\",\"Vanguard Total Stock Market ETF\",0.30),\n",
    "    Asset(\"TLT\",\"iShares 20+ Year Treasury Bond ETF\",0.40),\n",
    "    Asset(\"IEF\",\"iShares 7-10 Year Treasury Bond ETF\",0.15),\n",
    "    Asset(\"GSG\",\"iShares S&P GSCI Commodity-Indexed Trust\",0.075),\n",
    "    Asset(\"GLD\",\"SPDR Gold Shares\",0.075),\n",
    "])\n"
   ]
  },
  {
   "cell_type": "code",
   "execution_count": 3,
   "id": "3beb9d99",
   "metadata": {},
   "outputs": [],
   "source": [
    "\n",
    "# 2) Configs\n",
    "sim_cfg = SimConfig(horizon_months=30*12, n_sims=100, starting_balance=1_000_000)  # start with 100 sims\n",
    "sam_cfg = SamplerConfig(mode=\"single_year\", block_years=1, seed=42)\n",
    "\n",
    "goals = [\n",
    "    # Withdraw $4,000/mo starting in 1 year, for 30 years, inflation-indexed (real)\n",
    "    Goal(\"Retirement Withdrawals\", amount=-4000, start_month=12, frequency=12, repeats=30*12, real=True),\n",
    "]\n"
   ]
  },
  {
   "cell_type": "code",
   "execution_count": 4,
   "id": "9c7f66ad",
   "metadata": {},
   "outputs": [],
   "source": [
    "# 3) Data\n",
    "tickers = p.tickers()\n",
    "prices_m = fetch_prices_monthly(tickers)\n",
    "rets_m, infl_m, rf_m = prep_returns_and_macro(prices_m)\n",
    "\n"
   ]
  },
  {
   "cell_type": "code",
   "execution_count": 5,
   "id": "4c35b42c",
   "metadata": {},
   "outputs": [],
   "source": [
    "# 4) Sample paths\n",
    "sampler = ReturnSampler(rets_m, infl_m)\n",
    "R_paths, CPI_paths = sampler.sample(sim_cfg.horizon_months, sim_cfg.n_sims, sam_cfg)"
   ]
  },
  {
   "cell_type": "code",
   "execution_count": 6,
   "id": "2c58c62b",
   "metadata": {},
   "outputs": [],
   "source": [
    "# 5) Run simulation\n",
    "sim = MonteCarloSimulator(weights=p.weights_vector(), starting_balance=sim_cfg.starting_balance, rebalance_every_months=sim_cfg.rebalance_every_months)\n",
    "out = sim.run_with_cashflows(R_paths, CPI_paths, goals)"
   ]
  },
  {
   "cell_type": "code",
   "execution_count": 7,
   "id": "14738bc2",
   "metadata": {},
   "outputs": [
    {
     "name": "stdout",
     "output_type": "stream",
     "text": [
      "=== Monte Carlo Summary (100 sims) ===\n",
      "Survival rate: 69.0%\n",
      "End balance (nominal) median: $669,902\n",
      "CAGR median: -1.33%\n",
      "TWRR median: 5.52%\n",
      "Max Drawdown median: -54.3%\n",
      "Percentiles (10/50/90) - End Balance: ['$0', '$669,902', '$3,352,256']\n"
     ]
    }
   ],
   "source": [
    "# 6) Simple summary\n",
    "surv = (out[\"failure_month\"] == -1).mean()\n",
    "cagr_vals = cagr(out[\"balances\"], sim_cfg.horizon_months)\n",
    "twrr_vals = twrr_annualized(out[\"twrr_monthly\"])\n",
    "mdd_vals = max_drawdown(out[\"balances\"])\n",
    "\n",
    "def pct(x): return f\"{100*x:.1f}%\"\n",
    "print(\"=== Monte Carlo Summary (100 sims) ===\")\n",
    "print(f\"Survival rate: {pct(surv)}\")\n",
    "print(f\"End balance (nominal) median: ${np.median(out['balances'][:,-1]):,.0f}\")\n",
    "print(f\"CAGR median: {np.nanmedian(cagr_vals):.2%}\")\n",
    "print(f\"TWRR median: {np.nanmedian(twrr_vals):.2%}\")\n",
    "print(f\"Max Drawdown median: {np.median(mdd_vals):.1%}\")\n",
    "print(\"Percentiles (10/50/90) - End Balance:\",\n",
    "        [f\"${v:,.0f}\" for v in np.percentile(out['balances'][:,-1], [10,50,90])])"
   ]
  },
  {
   "cell_type": "code",
   "execution_count": null,
   "id": "a0b3acbe",
   "metadata": {},
   "outputs": [],
   "source": []
  },
  {
   "cell_type": "code",
   "execution_count": null,
   "id": "6633b050",
   "metadata": {},
   "outputs": [],
   "source": []
  }
 ],
 "metadata": {
  "kernelspec": {
   "display_name": ".venv (3.12.0)",
   "language": "python",
   "name": "python3"
  },
  "language_info": {
   "codemirror_mode": {
    "name": "ipython",
    "version": 3
   },
   "file_extension": ".py",
   "mimetype": "text/x-python",
   "name": "python",
   "nbconvert_exporter": "python",
   "pygments_lexer": "ipython3",
   "version": "3.12.0"
  }
 },
 "nbformat": 4,
 "nbformat_minor": 5
}
