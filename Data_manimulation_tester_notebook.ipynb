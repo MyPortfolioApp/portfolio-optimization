{
 "cells": [
  {
   "cell_type": "code",
   "execution_count": null,
   "id": "b7495dbe",
   "metadata": {},
   "outputs": [],
   "source": [
    "from portfolio_tester.config import Asset, Portfolio, SamplerConfig, SimConfig, Goal\n",
    "from portfolio_tester.data.fetchers import fetch_prices_monthly, prep_returns_and_macro, fetch_fred_series\n",
    "from portfolio_tester.sampling.bootstrap import ReturnSampler\n",
    "from portfolio_tester.engine.simulator import MonteCarloSimulator\n",
    "from portfolio_tester.analytics.metrics import cagr, twrr_annualized, max_drawdown, sharpe_sortino\n",
    "from portfolio_tester.analytics.risk import efficient_frontier, portfolio_annual_stats, single_asset_stats, max_sharpe_portfolio, risk_free_annual\n",
    "from portfolio_tester.viz.charts import plot_allocation_donut, plot_efficient_frontier, plot_end_balance_hist, plot_percentile_bands, plot_survival_curve\n",
    "import pandas as pd\n",
    "import numpy as np\n",
    "import matplotlib.pyplot as plt\n",
    "from pathlib import Path"
   ]
  },
  {
   "cell_type": "code",
   "execution_count": null,
   "id": "28cb2a3d",
   "metadata": {},
   "outputs": [],
   "source": [
    "# 1) Portfolio (MVP)\n",
    "p = Portfolio([\n",
    "    Asset(\"VTI\",\"Vanguard Total Stock Market ETF\",0.30),\n",
    "    Asset(\"TLT\",\"iShares 20+ Year Treasury Bond ETF\",0.40),\n",
    "    Asset(\"IEF\",\"iShares 7-10 Year Treasury Bond ETF\",0.15),\n",
    "    Asset(\"GSG\",\"iShares S&P GSCI Commodity-Indexed Trust\",0.075),\n",
    "    Asset(\"GLD\",\"SPDR Gold Shares\",0.075),\n",
    "])\n"
   ]
  },
  {
   "cell_type": "code",
   "execution_count": null,
   "id": "c26f13e9",
   "metadata": {},
   "outputs": [],
   "source": [
    "\n",
    "# 2) Configs\n",
    "sim_cfg = SimConfig(horizon_months=30*12, n_sims=100, starting_balance=1_000_000)  # start with 100 sims\n",
    "sam_cfg = SamplerConfig(mode=\"single_year\", block_years=1, seed=42)\n",
    "\n",
    "goals = [\n",
    "    # Withdraw $4,000/mo starting in 1 year, for 30 years, inflation-indexed (real)\n",
    "    Goal(\"Retirement Withdrawals\", amount=-4000, start_month=12, frequency=12, repeats=30*12, real=True),\n",
    "]\n"
   ]
  },
  {
   "cell_type": "code",
   "execution_count": null,
   "id": "4c864e81",
   "metadata": {},
   "outputs": [],
   "source": [
    "# 3) Data\n",
    "tickers = p.tickers()\n",
    "prices_m = fetch_prices_monthly(tickers)\n",
    "rets_m, infl_m, rf_m = prep_returns_and_macro(prices_m)\n",
    "\n"
   ]
  },
  {
   "cell_type": "code",
   "execution_count": null,
   "id": "e508ec48",
   "metadata": {},
   "outputs": [],
   "source": [
    "# 4) Sample paths\n",
    "sampler = ReturnSampler(rets_m, infl_m)\n",
    "R_paths, CPI_paths = sampler.sample(sim_cfg.horizon_months, sim_cfg.n_sims, sam_cfg)"
   ]
  },
  {
   "cell_type": "code",
   "execution_count": null,
   "id": "af339ddb",
   "metadata": {},
   "outputs": [],
   "source": [
    "# 5) Run simulation\n",
    "sim = MonteCarloSimulator(weights=p.weights_vector(), starting_balance=sim_cfg.starting_balance, rebalance_every_months=sim_cfg.rebalance_every_months)\n",
    "out = sim.run_with_cashflows(R_paths, CPI_paths, goals)"
   ]
  },
  {
   "cell_type": "code",
   "execution_count": null,
   "id": "8b901265",
   "metadata": {},
   "outputs": [],
   "source": [
    "# 6) Simple summary\n",
    "surv = (out[\"failure_month\"] == -1).mean()\n",
    "cagr_vals = cagr(out[\"balances\"], sim_cfg.horizon_months)\n",
    "twrr_vals = twrr_annualized(out[\"twrr_monthly\"])\n",
    "mdd_vals = max_drawdown(out[\"balances\"])\n",
    "\n",
    "def pct(x): return f\"{100*x:.1f}%\"\n",
    "print(\"=== Monte Carlo Summary (100 sims) ===\")\n",
    "print(f\"Survival rate: {pct(surv)}\")\n",
    "print(f\"End balance (nominal) median: ${np.median(out['balances'][:,-1]):,.0f}\")\n",
    "print(f\"CAGR median: {np.nanmedian(cagr_vals):.2%}\")\n",
    "print(f\"TWRR median: {np.nanmedian(twrr_vals):.2%}\")\n",
    "print(f\"Max Drawdown median: {np.median(mdd_vals):.1%}\")\n",
    "print(\"Percentiles (10/50/90) - End Balance:\",\n",
    "        [f\"${v:,.0f}\" for v in np.percentile(out['balances'][:,-1], [10,50,90])])"
   ]
  },
  {
   "cell_type": "code",
   "execution_count": null,
   "id": "7df212c0",
   "metadata": {},
   "outputs": [],
   "source": [
    "prices_m.head().to_csv(\"prices_m_head.csv\", index=True)\n"
   ]
  },
  {
   "cell_type": "code",
   "execution_count": null,
   "id": "70830fdf",
   "metadata": {},
   "outputs": [],
   "source": [
    "prices_m = fetch_prices_monthly(tickers)\n",
    "cpi = fetch_fred_series(\"CPIAUCSL\", start=rets_m.index.min(), end=rets_m.index.max())\n",
    "tb3 = fetch_fred_series(\"TB3MS\", start=rets_m.index.min(), end=rets_m.index.max())\n"
   ]
  },
  {
   "cell_type": "code",
   "execution_count": null,
   "id": "d665a14f",
   "metadata": {},
   "outputs": [],
   "source": [
    "# quick alignment check\n",
    "rets, infl, rf = prep_returns_and_macro(prices_m)\n",
    "print(\"indexes equal:\", rets.index.equals(infl.index) and rets.index.equals(rf.index))\n",
    "print(\"rets index min/max:\", rets.index.min(), rets.index.max())\n",
    "print(\"infl missing:\", infl.isna().any(), \"rf missing:\", rf.isna().any())\n",
    "# show any index differences\n",
    "print(\"extra in infl:\", infl.index.difference(rets.index))\n",
    "print(\"extra in rf:\", rf.index.difference(rets.index))"
   ]
  },
  {
   "cell_type": "code",
   "execution_count": null,
   "id": "8ac7290d",
   "metadata": {},
   "outputs": [],
   "source": [
    "import pandas as pd\n",
    "from collections import defaultdict\n",
    "\n",
    "def check_full_year_coverage(rets, infl, rf):\n",
    "    \"\"\"Return True if each input has all 12 months for every observed year.\"\"\"\n",
    "    datasets = {\"rets\": rets, \"infl\": infl, \"rf\": rf}\n",
    "\n",
    "    def missing_months(idx):\n",
    "        idx = pd.DatetimeIndex(idx)\n",
    "        by_year = defaultdict(set)\n",
    "        for ts in idx:\n",
    "            by_year[ts.year].add(ts.month)\n",
    "        return {\n",
    "            year: sorted(set(range(1, 13)) - months)\n",
    "            for year, months in by_year.items()\n",
    "            if len(months) != 12\n",
    "        }\n",
    "\n",
    "    coverage = {name: missing_months(obj.index) for name, obj in datasets.items()}\n",
    "    all_full = all(len(missing) == 0 for missing in coverage.values())\n",
    "    if all_full:\n",
    "        print(\"All series have complete 12-month coverage for every year.\")\n",
    "    else:\n",
    "        print(\"Missing months detected:\")\n",
    "        for name, missing in coverage.items():\n",
    "            if not missing:\n",
    "                continue\n",
    "            print(f\"  {name}:\")\n",
    "            for year, months in sorted(missing.items()):\n",
    "                month_list = ', '.join(f\"{m:02d}\" for m in months)\n",
    "                print(f\"    {year}: {month_list}\")\n",
    "    return all_full, coverage\n"
   ]
  },
  {
   "cell_type": "code",
   "execution_count": null,
   "id": "1ec8d42d",
   "metadata": {},
   "outputs": [],
   "source": [
    "testa=check_full_year_coverage(rets, infl, rf)\n",
    "testa"
   ]
  },
  {
   "cell_type": "code",
   "execution_count": null,
   "id": "fc809d4d",
   "metadata": {},
   "outputs": [],
   "source": [
    "R_paths.shape"
   ]
  },
  {
   "cell_type": "code",
   "execution_count": null,
   "id": "2d3cdc71",
   "metadata": {},
   "outputs": [],
   "source": [
    "out[\"failure_month\"].shape"
   ]
  },
  {
   "cell_type": "code",
   "execution_count": null,
   "id": "da447341",
   "metadata": {},
   "outputs": [],
   "source": [
    "out[\"cashflows\"][1]"
   ]
  },
  {
   "cell_type": "code",
   "execution_count": null,
   "id": "57744fee",
   "metadata": {},
   "outputs": [],
   "source": [
    "# diagnostics: run where tickers and prices_m are defined\n",
    "print(\"shape:\", prices_m.shape)\n",
    "print(\"first/last index:\", prices_m.index.min(), prices_m.index.max())\n",
    "print(\"columns returned:\", list(prices_m.columns))\n",
    "print(\"missing tickers:\", set(tickers) - set(prices_m.columns))\n",
    "print(\"NaN counts per column:\\n\", prices_m.isna().sum())\n",
    "# show months that are all-NaN (these were dropped by fetcher)\n",
    "# run before calling fetcher to see raw behavior, otherwise inspect cache file"
   ]
  },
  {
   "cell_type": "code",
   "execution_count": null,
   "id": "255ebc8c",
   "metadata": {},
   "outputs": [],
   "source": []
  },
  {
   "cell_type": "code",
   "execution_count": null,
   "id": "c3a1b063",
   "metadata": {},
   "outputs": [],
   "source": [
    "prices_m.index.min()"
   ]
  },
  {
   "cell_type": "code",
   "execution_count": null,
   "id": "6f650b77",
   "metadata": {},
   "outputs": [],
   "source": [
    "# align the raw TB3MS series to the rf_m index\n",
    "tb3 = (\n",
    "    fetch_fred_series(\"TB3MS\", start=rets_m.index.min(), end=rets_m.index.max())\n",
    "    .reindex(rf_m.index)\n",
    "    .iloc[:, 0]\n",
    ")\n",
    "\n",
    "# recompute the monthly rate from the raw annualised TB3 quote\n",
    "rf_from_tb3 = (1.0 + tb3 / 100.0) ** (1.0 / 12.0) - 1.0\n",
    "\n",
    "rf_a = risk_free_annual(rf_m)\n",
    "\n",
    "df_rf = pd.DataFrame(\n",
    "    {\n",
    "        \"tb3_annual_pct\": tb3,          # FRED value, annualised percent\n",
    "        \"rf_m\": rf_m,                   # monthly decimal rate returned by prep_returns_and_macro\n",
    "        \"rf_from_tb3\": rf_from_tb3,     # sanity-check conversion\n",
    "        \"rf_a\": np.full(len(rf_m), rf_a),\n",
    "    }\n",
    ").rename_axis(\"date\")\n",
    "\n",
    "df_rf.to_csv(\"figures/risk_free_check.csv\")\n",
    "\n",
    "print(\"rf_m matches conversion:\", np.allclose(df_rf[\"rf_m\"], df_rf[\"rf_from_tb3\"], rtol=0, atol=1e-12))\n",
    "print(\"Unique rf_a value:\", df_rf[\"rf_a\"].unique())"
   ]
  }
 ],
 "metadata": {
  "kernelspec": {
   "display_name": ".venv (3.12.0)",
   "language": "python",
   "name": "python3"
  },
  "language_info": {
   "name": "python",
   "version": "3.12.0"
  }
 },
 "nbformat": 4,
 "nbformat_minor": 5
}
